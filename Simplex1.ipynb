{
  "nbformat": 4,
  "nbformat_minor": 0,
  "metadata": {
    "colab": {
      "name": "Simplex1.ipynb",
      "provenance": [],
      "collapsed_sections": [],
      "authorship_tag": "ABX9TyMKKg6A9ufmKj3aRzJyl6Te",
      "include_colab_link": true
    },
    "kernelspec": {
      "name": "ir",
      "display_name": "R"
    },
    "language_info": {
      "name": "R"
    }
  },
  "cells": [
    {
      "cell_type": "markdown",
      "metadata": {
        "id": "view-in-github",
        "colab_type": "text"
      },
      "source": [
        "<a href=\"https://colab.research.google.com/github/Villagran29A/SimplexMethod-R/blob/main/Simplex1.ipynb\" target=\"_parent\"><img src=\"https://colab.research.google.com/assets/colab-badge.svg\" alt=\"Open In Colab\"/></a>"
      ]
    },
    {
      "cell_type": "markdown",
      "metadata": {
        "id": "8P_l1SUj2kS8"
      },
      "source": [
        "Instalacion de paquetes que se utilizaran"
      ]
    },
    {
      "cell_type": "code",
      "metadata": {
        "id": "5pmHOxNW2exu",
        "colab": {
          "base_uri": "https://localhost:8080/"
        },
        "outputId": "88f186b6-cbaf-4284-c93b-f758bb02a840"
      },
      "source": [
        "install.packages('boot')\n",
        "#install.packages('matlib')\n"
      ],
      "execution_count": null,
      "outputs": [
        {
          "output_type": "stream",
          "name": "stderr",
          "text": [
            "Installing package into ‘/usr/local/lib/R/site-library’\n",
            "(as ‘lib’ is unspecified)\n",
            "\n"
          ]
        }
      ]
    },
    {
      "cell_type": "code",
      "metadata": {
        "id": "AdwPuzqw2Vsp"
      },
      "source": [
        "#library(matlib)\n",
        "library(boot)"
      ],
      "execution_count": null,
      "outputs": []
    },
    {
      "cell_type": "markdown",
      "metadata": {
        "id": "zhvOBUcl6I9q"
      },
      "source": [
        "Definimos nuestra funcion objetivo"
      ]
    },
    {
      "cell_type": "code",
      "metadata": {
        "id": "j3nMBUjh27RQ"
      },
      "source": [
        "coeficienteFuncion <- c(100,120,200)"
      ],
      "execution_count": null,
      "outputs": []
    },
    {
      "cell_type": "markdown",
      "metadata": {
        "id": "qFVeKb9SzKLj"
      },
      "source": [
        "Definicion de resticciones, las cuales estan en la matriz o vector, la matriz esta defininda por renglones y columnas"
      ]
    },
    {
      "cell_type": "code",
      "metadata": {
        "id": "8meDszM8zM_5",
        "colab": {
          "base_uri": "https://localhost:8080/",
          "height": 247
        },
        "outputId": "542aa195-0ea2-449e-8314-68872aca69d9"
      },
      "source": [
        "matRestricciones1 <- \n",
        "#             Datos           Ren, Col  Max\n",
        "d<- matrix(c(1,1,2,0,0,1),2,3,byrow=TRUE)\n",
        "matRestricciones2 <- d<- matrix(c(1,0,0,2,0,1),2,3,byrow=TRUE)\n",
        "#matRestricciones3 <- d<- matrix(c(1, 2),1,2,byrow=TRUE)\n",
        "#Impresion de matrices\n",
        "matRestricciones1\n",
        "matRestricciones2\n",
        "#matRestricciones3"
      ],
      "execution_count": null,
      "outputs": [
        {
          "output_type": "display_data",
          "data": {
            "text/plain": [
              "     [,1] [,2] [,3]\n",
              "[1,] 1    1    2   \n",
              "[2,] 0    0    1   "
            ],
            "text/latex": "A matrix: 2 × 3 of type dbl\n\\begin{tabular}{lll}\n\t 1 & 1 & 2\\\\\n\t 0 & 0 & 1\\\\\n\\end{tabular}\n",
            "text/markdown": "\nA matrix: 2 × 3 of type dbl\n\n| 1 | 1 | 2 |\n| 0 | 0 | 1 |\n\n",
            "text/html": [
              "<table class=\"dataframe\">\n",
              "<caption>A matrix: 2 × 3 of type dbl</caption>\n",
              "<tbody>\n",
              "\t<tr><td>1</td><td>1</td><td>2</td></tr>\n",
              "\t<tr><td>0</td><td>0</td><td>1</td></tr>\n",
              "</tbody>\n",
              "</table>\n"
            ]
          },
          "metadata": {}
        },
        {
          "output_type": "display_data",
          "data": {
            "text/plain": [
              "     [,1] [,2] [,3]\n",
              "[1,] 1    0    0   \n",
              "[2,] 2    0    1   "
            ],
            "text/latex": "A matrix: 2 × 3 of type dbl\n\\begin{tabular}{lll}\n\t 1 & 0 & 0\\\\\n\t 2 & 0 & 1\\\\\n\\end{tabular}\n",
            "text/markdown": "\nA matrix: 2 × 3 of type dbl\n\n| 1 | 0 | 0 |\n| 2 | 0 | 1 |\n\n",
            "text/html": [
              "<table class=\"dataframe\">\n",
              "<caption>A matrix: 2 × 3 of type dbl</caption>\n",
              "<tbody>\n",
              "\t<tr><td>1</td><td>0</td><td>0</td></tr>\n",
              "\t<tr><td>2</td><td>0</td><td>1</td></tr>\n",
              "</tbody>\n",
              "</table>\n"
            ]
          },
          "metadata": {}
        }
      ]
    },
    {
      "cell_type": "markdown",
      "metadata": {
        "id": "HQCQyUWUzg_Z"
      },
      "source": [
        "Vector independiente de las restricciones (resultados de la ecuacion)\n",
        "#Resolucion con metodo simplex\n",
        "implex(a, A1, b1, A2, b2, A3, b3, maxi, n.iter, eps)\n",
        "- a: coeficientes de la función objetivo\n",
        "- A1: matriz de restricciones de tipo ≤ (sólo la - parte de coeficientes)\n",
        "- b1: vector de términos independientes de las - restricciones de tipo ≤ (correspondientes a la matriz A1)\n",
        "- A2: idem con restricciones de tipo ≥\n",
        "- b2: idem correspondientes a la matriz A2\n",
        "- A3: idem con restricciones de tipo =\n",
        "-b3: idem correspondientes a la matriz A3"
      ]
    },
    {
      "cell_type": "code",
      "metadata": {
        "id": "0B2vvqoqzkxx",
        "colab": {
          "base_uri": "https://localhost:8080/",
          "height": 312
        },
        "outputId": "7f080381-1e9f-4871-e9aa-d03dca3f16e2"
      },
      "source": [
        "g<-vectorTerminoIndep1 <- c(5, 2)\n",
        "g<-vectorTerminoIndep2 <- c(2, 3)\n",
        "#g<-vectorTerminoIndep3 <- c(1.5)\n",
        "vectorTerminoIndep1\n",
        "vectorTerminoIndep1\n",
        "#simplex(a, A1, b1, A2, b2, A3, b3, maxi, n.iter, eps)\n",
        "mySimplex1 <- simplex(coeficienteFuncion, A1 = matRestricciones1, b1 = vectorTerminoIndep1, A2 = matRestricciones2, b2 = vectorTerminoIndep2,maxi = TRUE)\n",
        "mySimplex1"
      ],
      "execution_count": null,
      "outputs": [
        {
          "output_type": "display_data",
          "data": {
            "text/plain": [
              "[1] 5 2"
            ],
            "text/latex": "\\begin{enumerate*}\n\\item 5\n\\item 2\n\\end{enumerate*}\n",
            "text/markdown": "1. 5\n2. 2\n\n\n",
            "text/html": [
              "<style>\n",
              ".list-inline {list-style: none; margin:0; padding: 0}\n",
              ".list-inline>li {display: inline-block}\n",
              ".list-inline>li:not(:last-child)::after {content: \"\\00b7\"; padding: 0 .5ex}\n",
              "</style>\n",
              "<ol class=list-inline><li>5</li><li>2</li></ol>\n"
            ]
          },
          "metadata": {}
        },
        {
          "output_type": "display_data",
          "data": {
            "text/plain": [
              "[1] 5 2"
            ],
            "text/latex": "\\begin{enumerate*}\n\\item 5\n\\item 2\n\\end{enumerate*}\n",
            "text/markdown": "1. 5\n2. 2\n\n\n",
            "text/html": [
              "<style>\n",
              ".list-inline {list-style: none; margin:0; padding: 0}\n",
              ".list-inline>li {display: inline-block}\n",
              ".list-inline>li:not(:last-child)::after {content: \"\\00b7\"; padding: 0 .5ex}\n",
              "</style>\n",
              "<ol class=list-inline><li>5</li><li>2</li></ol>\n"
            ]
          },
          "metadata": {}
        },
        {
          "output_type": "display_data",
          "data": {
            "text/plain": [
              "\n",
              "Linear Programming Results\n",
              "\n",
              "Call : simplex(a = coeficienteFuncion, A1 = matRestricciones1, b1 = vectorTerminoIndep1, \n",
              "    A2 = matRestricciones2, b2 = vectorTerminoIndep2, maxi = TRUE)\n",
              "\n",
              "Maximization Problem with Objective Function Coefficients\n",
              " x1  x2  x3 \n",
              "100 120 200 \n",
              "\n",
              "\n",
              "Optimal solution has the following values\n",
              "x1 x2 x3 \n",
              " 2  3  0 \n",
              "The optimal value of the objective  function is 560."
            ]
          },
          "metadata": {}
        }
      ]
    },
    {
      "cell_type": "markdown",
      "metadata": {
        "id": "_YvXUhnp1oOa"
      },
      "source": [
        "Grafica de rtesultados\n",
        "d = Matriz de restricciones\n",
        "g = Resultado de resticciones "
      ]
    },
    {
      "cell_type": "code",
      "metadata": {
        "id": "NMEhEPP61p7X"
      },
      "source": [
        "#plotEqn(d,g, xlim = c(0,7), ylim = c(0,7), labels = TRUE)"
      ],
      "execution_count": null,
      "outputs": []
    }
  ]
}